{
 "cells": [
  {
   "cell_type": "code",
   "execution_count": null,
   "id": "fc713a8d-c7c0-4933-b73a-89acfaf03162",
   "metadata": {},
   "outputs": [],
   "source": []
  }
 ],
 "metadata": {
  "kernelspec": {
   "display_name": "",
   "name": ""
  },
  "language_info": {
   "name": ""
  }
 },
 "nbformat": 4,
 "nbformat_minor": 5
}
